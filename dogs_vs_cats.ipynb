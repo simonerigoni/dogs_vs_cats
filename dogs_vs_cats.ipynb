{
 "cells": [
  {
   "cell_type": "markdown",
   "metadata": {},
   "source": [
    "# dogs vs cats\n",
    "\n",
    "The [dataset](https://www.kaggle.com/c/dogs-vs-cats/data) from Kaggle has a structure pretty different from the one espected from Google AutoML. Kaggle arranged the images in one folder 'train' using as reference to the label the name of the image i.e cat.0.jpg, dog.0.jpg. Google AutoML Vision expect one folder per label with the images inside\n",
    "\n",
    "1. Create a folder for dog and one for cat and put inside them the relative images \n",
    "2. Create a csv file to use as mapping in the google bucket"
   ]
  },
  {
   "cell_type": "code",
   "execution_count": 1,
   "metadata": {
    "tags": []
   },
   "outputs": [],
   "source": [
    "import os\n",
    "import sys\n",
    "import shutil\n",
    "\n",
    "BASE_DIRECTORY = 'data/'\n",
    "KAGGLE_DATA = BASE_DIRECTORY + 'kaggle/train/'\n",
    "GCP_DATA = BASE_DIRECTORY + 'gcp/'\n",
    "CSV_FILENAME = 'all_data.csv'\n",
    "BUCKET_NAME = 'gs://bucket-32f6fa0a-57c8-4902-a1db-e104bc4f8200'\n",
    "LABELS = ['cat', 'dog']"
   ]
  },
  {
   "cell_type": "code",
   "execution_count": 2,
   "metadata": {
    "tags": []
   },
   "outputs": [
    {
     "output_type": "stream",
     "name": "stdout",
     "text": "Delete label subdirectores in data/gcp/:\n\tcat\n\tdog\nCreate label subdirectores in data/gcp/:\n\tcat\n\tdog\n"
    }
   ],
   "source": [
    "print('Delete label subdirectores in {}:'.format(GCP_DATA))\n",
    "\n",
    "for label in LABELS:\n",
    "    if os.path.isdir(GCP_DATA + label) == True:\n",
    "        shutil.rmtree(GCP_DATA + label)\n",
    "        print('\\t' + label)\n",
    "\n",
    "print('Create label subdirectores in {}:'.format(GCP_DATA))\n",
    "for label in LABELS:\n",
    "    if os.path.isdir(GCP_DATA + label) == False:\n",
    "        os.mkdir(GCP_DATA + label)\n",
    "        print('\\t' + label)"
   ]
  },
  {
   "cell_type": "code",
   "execution_count": 3,
   "metadata": {},
   "outputs": [],
   "source": [
    "for label in LABELS:\n",
    "    for filename in os.listdir(KAGGLE_DATA):\n",
    "        if label in filename:\n",
    "            shutil.copy(KAGGLE_DATA + filename, GCP_DATA + label + '/' + filename)"
   ]
  },
  {
   "cell_type": "code",
   "execution_count": 4,
   "metadata": {
    "tags": []
   },
   "outputs": [
    {
     "output_type": "stream",
     "name": "stdout",
     "text": "Total images 25000\n{'cat': 12500, 'dog': 12500}\n"
    }
   ],
   "source": [
    "label_count = dict()\n",
    "count_files = 0\n",
    "\n",
    "with open(GCP_DATA + CSV_FILENAME, 'w') as output_file:\n",
    "    for label_directory in os.listdir(GCP_DATA):\n",
    "        if os.path.isfile(GCP_DATA + '/' + label_directory):\n",
    "            pass\n",
    "        else:\n",
    "            for file in os.listdir(GCP_DATA + '/' + label_directory):\n",
    "                #print(bucket_name + '/' + flower_directory + '/' + file)\n",
    "                output_file.write(BUCKET_NAME + '/' + label_directory + '/' + file + ',' + label_directory + '\\n')\n",
    "                count_files = count_files + 1\n",
    "                if label_directory in label_count.keys():\n",
    "                    label_count[label_directory] = label_count[label_directory] + 1\n",
    "                else:\n",
    "                    label_count[label_directory] = 1\n",
    "\n",
    "print('Total images {}'.format(count_files))\n",
    "print(label_count)"
   ]
  },
  {
   "cell_type": "code",
   "execution_count": 3,
   "metadata": {
    "tags": []
   },
   "outputs": [
    {
     "output_type": "stream",
     "name": "stdout",
     "text": "['all_data.csv', 'cat', 'dog']\n"
    }
   ],
   "source": [
    "print(os.listdir(GCP_DATA))"
   ]
  },
  {
   "cell_type": "code",
   "execution_count": null,
   "metadata": {},
   "outputs": [],
   "source": []
  }
 ],
 "metadata": {
  "language_info": {
   "codemirror_mode": {
    "name": "ipython",
    "version": 3
   },
   "file_extension": ".py",
   "mimetype": "text/x-python",
   "name": "python",
   "nbconvert_exporter": "python",
   "pygments_lexer": "ipython3",
   "version": "3.8.2-final"
  },
  "orig_nbformat": 2,
  "kernelspec": {
   "name": "python38264bit8c8bf57897dd41afbb2bfcf7cdeb8645",
   "display_name": "Python 3.8.2 64-bit"
  }
 },
 "nbformat": 4,
 "nbformat_minor": 2
}